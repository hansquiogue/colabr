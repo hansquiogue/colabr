{
  "nbformat": 4,
  "nbformat_minor": 0,
  "metadata": {
    "colab": {
      "name": "colabr-package.ipynb",
      "provenance": [],
      "collapsed_sections": [],
      "toc_visible": true,
      "include_colab_link": true
    },
    "kernelspec": {
      "name": "ir",
      "display_name": "R"
    }
  },
  "cells": [
    {
      "cell_type": "markdown",
      "metadata": {
        "id": "view-in-github",
        "colab_type": "text"
      },
      "source": [
        "<a href=\"https://colab.research.google.com/github/hansquiogue/colabr/blob/main/colabr_package.ipynb\" target=\"_parent\"><img src=\"https://colab.research.google.com/assets/colab-badge.svg\" alt=\"Open In Colab\"/></a>"
      ]
    },
    {
      "cell_type": "markdown",
      "metadata": {
        "id": "Z6usgCDAcHJv"
      },
      "source": [
        "# Installing colabr"
      ]
    },
    {
      "cell_type": "markdown",
      "metadata": {
        "id": "F5AUK-bOcQYC"
      },
      "source": [
        "`Colabr` is a simple R package to make working with Google Colab a lot smoother and fix issues that occur with various packages. Before we can install the package, we need to install `devtools`, since `colabr` is hosted on GitHub. "
      ]
    },
    {
      "cell_type": "code",
      "metadata": {
        "id": "bcjKrbbuTVbY"
      },
      "source": [
        "# Install devtools\r\n",
        "install.packages('devtools')"
      ],
      "execution_count": null,
      "outputs": []
    },
    {
      "cell_type": "markdown",
      "metadata": {
        "id": "5jZ4ak-vELi4"
      },
      "source": [
        "We can install the package like so:"
      ]
    },
    {
      "cell_type": "code",
      "metadata": {
        "id": "XFLg-lqHTZSi"
      },
      "source": [
        "# Install colabr\r\n",
        "devtools::install_github('hansquiogue/colabr', force = TRUE)"
      ],
      "execution_count": null,
      "outputs": []
    },
    {
      "cell_type": "code",
      "metadata": {
        "id": "0HemskdETeLK"
      },
      "source": [
        "# Load colabr package\r\n",
        "library(colabr)"
      ],
      "execution_count": null,
      "outputs": []
    },
    {
      "cell_type": "markdown",
      "metadata": {
        "id": "s-iU-qg7cPV9"
      },
      "source": [
        "# Alerts"
      ]
    },
    {
      "cell_type": "markdown",
      "metadata": {
        "id": "NIY8r0qPcZo0"
      },
      "source": [
        "You can call a function to help generate alerts for your colab notebook using `generate_alerts()`.\r\n",
        "\r\n",
        "It takes in three optional arguments:\r\n",
        "- Embedded: Whether or not the output is an embedded webpage\r\n",
        "- Width: The width of the embedded output\r\n",
        "- Height: The height of the embedded output\r\n",
        "\r\n"
      ]
    },
    {
      "cell_type": "code",
      "metadata": {
        "id": "7akieQrl3FxP"
      },
      "source": [
        "generate_alerts()"
      ],
      "execution_count": null,
      "outputs": []
    },
    {
      "cell_type": "markdown",
      "metadata": {
        "id": "R9iy8pUW3Csm"
      },
      "source": [
        "Bug note: sometimes the embedded webpage does not display. You may see `embedded` to FALSE to view the actual website instead."
      ]
    },
    {
      "cell_type": "code",
      "metadata": {
        "id": "uila2SY5Thgy"
      },
      "source": [
        "# If embedded does not show up, view the website instead\n",
        "generate_alerts(embedded = FALSE)"
      ],
      "execution_count": null,
      "outputs": []
    },
    {
      "cell_type": "markdown",
      "metadata": {
        "id": "IL3BgbMhV_R8"
      },
      "source": [
        "Here is an example of the default alert in action:\n",
        "\n",
        "<img src=\"https://i.imgur.com/vGhxj4A.png\" alt=\"alert\" width=\"50\" height=\"50\">\n",
        "<br><font size=\"+1\" face=\"Arial\" color=\"red\" id=\"preview\">Alert message goes here!</font>"
      ]
    },
    {
      "cell_type": "markdown",
      "metadata": {
        "id": "F7gVxN5UcioT"
      },
      "source": [
        "Run the code below to view the documentation:"
      ]
    },
    {
      "cell_type": "code",
      "metadata": {
        "id": "dgHWMHEBctYg"
      },
      "source": [
        "# Documentation\r\n",
        "?generate_alerts"
      ],
      "execution_count": null,
      "outputs": []
    },
    {
      "cell_type": "markdown",
      "metadata": {
        "id": "QrEM9nfNIqIr"
      },
      "source": [
        "# Downloading Files from Google Drive"
      ]
    },
    {
      "cell_type": "markdown",
      "metadata": {
        "id": "qEBUwipAIuDb"
      },
      "source": [
        "We can download files from a Google Drive using `download_drive`. It takes in one argument:\n",
        "- drive_link: a string of a publicly shared drive folder or single file.\n",
        "\n",
        "The files are assumed to be publicly shared for anyone to view. \n",
        "\n"
      ]
    },
    {
      "cell_type": "markdown",
      "metadata": {
        "id": "IpJDu7ffJX1M"
      },
      "source": [
        "<img src=\"https://i.imgur.com/vGhxj4A.png\" alt=\"alert\" width=\"50\" height=\"50\">\n",
        "<br><font size=\"+1\" face=\"Arial\" color=\"Red\" id=\"preview\">For folder downloads, ensure there are no subdirectories!</font>\n",
        "\n",
        "The code currently cannot handle Google Drive folder downloads with subdirectories inside them."
      ]
    },
    {
      "cell_type": "code",
      "metadata": {
        "id": "2Z_-Z-u5I4VY"
      },
      "source": [
        "?download_drive"
      ],
      "execution_count": null,
      "outputs": []
    },
    {
      "cell_type": "markdown",
      "metadata": {
        "id": "99EfucEsJjLu"
      },
      "source": [
        "Let's download a file:"
      ]
    },
    {
      "cell_type": "code",
      "metadata": {
        "id": "MFLlgTQ9JlWV"
      },
      "source": [
        "download_drive('https://drive.google.com/file/d/1S5Qzc9mnWEjjYR1P7p2QhOfUAcftijGd/view?usp=sharing')"
      ],
      "execution_count": null,
      "outputs": []
    },
    {
      "cell_type": "markdown",
      "metadata": {
        "id": "fIb0-fbDJ8lx"
      },
      "source": [
        "We can check that the file is downloaded by clicking the folder icon in the left side of Google Colab:\n",
        "\n",
        "![left.png](data:image/png;base64,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)"
      ]
    },
    {
      "cell_type": "markdown",
      "metadata": {
        "id": "6TxlYnGMKUUF"
      },
      "source": [
        "If the file hasn't shown up, wait a couple seconds or refresh the Files tab. If it still hasn't shown up after a while, please double check to see if the file has the correct sharing permissions and is publicly available."
      ]
    },
    {
      "cell_type": "markdown",
      "metadata": {
        "id": "ZPo1zytQKmkf"
      },
      "source": [
        "We can also download a folder (remember, no sub-folders inside the main folder!).\n",
        "\n",
        "The files in the folder will be downloaded:"
      ]
    },
    {
      "cell_type": "code",
      "metadata": {
        "id": "3gJ0LQ1MKoSk"
      },
      "source": [
        "download_drive('https://drive.google.com/drive/folders/1FijtsIRgQpDOlt4ZdTbaA7gPoqmuJaqA?usp=sharing')"
      ],
      "execution_count": null,
      "outputs": []
    },
    {
      "cell_type": "markdown",
      "metadata": {
        "id": "kuSVeJelqhMa"
      },
      "source": [
        "Like before, you can check what files are downloaded by clicking the folder in the left menu."
      ]
    },
    {
      "cell_type": "markdown",
      "metadata": {
        "id": "6MJKvGbfqqhH"
      },
      "source": [
        "We can read in files after downloading what we need:"
      ]
    },
    {
      "cell_type": "code",
      "metadata": {
        "id": "v2j1zrqeqwpH"
      },
      "source": [
        "scdb <- read.csv('scdb.csv')\n",
        "\n",
        "head(scdb, 4)"
      ],
      "execution_count": null,
      "outputs": []
    },
    {
      "cell_type": "markdown",
      "metadata": {
        "id": "6AsIwJ9McwQj"
      },
      "source": [
        "# spacyr and cleanNLP Initializations"
      ]
    },
    {
      "cell_type": "markdown",
      "metadata": {
        "id": "px_7D8eDc__o"
      },
      "source": [
        "Initializing spacyr and cleanNLP can be a bit annoying in Google Colab. This package will make the process simpler using a couple lines of code."
      ]
    },
    {
      "cell_type": "markdown",
      "metadata": {
        "id": "Pm2LXzMfdeic"
      },
      "source": [
        "## Anaconda"
      ]
    },
    {
      "cell_type": "markdown",
      "metadata": {
        "id": "qrshCbSMdfwt"
      },
      "source": [
        "Before initializing the packages, we'll need to download and install Anaconda. You can do so using `download_anaconda()`."
      ]
    },
    {
      "cell_type": "code",
      "metadata": {
        "id": "hSo_Ud7keJwO"
      },
      "source": [
        "?download_anaconda()"
      ],
      "execution_count": null,
      "outputs": []
    },
    {
      "cell_type": "markdown",
      "metadata": {
        "id": "Rd5vJ7HJeHT6"
      },
      "source": [
        "Let's setup Anaconda. Running the function downloads and installs Anaconda into Google Colab, so the process might take a while. "
      ]
    },
    {
      "cell_type": "markdown",
      "metadata": {
        "id": "rL9ZVD3nWJdd"
      },
      "source": [
        "<img src=\"https://i.imgur.com/vGhxj4A.png\" alt=\"alert\" width=\"50\" height=\"50\">\n",
        "<br><font size=\"+1\" face=\"Arial\" color=\"Red\" id=\"preview\">Note that the notebook runtime is also restarted after running this function. </font>"
      ]
    },
    {
      "cell_type": "markdown",
      "metadata": {
        "id": "Ypi9-pUHWMUf"
      },
      "source": [
        "*Don't worry if Colab says the session crashed; it is done on purpose!*"
      ]
    },
    {
      "cell_type": "code",
      "metadata": {
        "id": "zW4JeJ78dGd-"
      },
      "source": [
        "# Download anaconda (might take a while)\r\n",
        "# Don't worry if session crashed, notebook is restarted\r\n",
        "download_anaconda()"
      ],
      "execution_count": null,
      "outputs": []
    },
    {
      "cell_type": "markdown",
      "metadata": {
        "id": "7GgZ6NWkWTaX"
      },
      "source": [
        "Whenever we use the function though, we'll need to load the libraries we've used in this notebook. We don't need to install everything again though! Let's load back the colabr package (since it's the only one we've used):"
      ]
    },
    {
      "cell_type": "code",
      "metadata": {
        "id": "6gmBYBO_Wdng"
      },
      "source": [
        "library(colabr)"
      ],
      "execution_count": null,
      "outputs": []
    },
    {
      "cell_type": "markdown",
      "metadata": {
        "id": "CXuvzir5WqF-"
      },
      "source": [
        "We can setup our Anaconda environment now using `setup_anaconda()`. It takes in one argument, a string that represents what we want to call the environment variable. By default, it is `r-reticulate`. You may view the documentation below. \r\n",
        "\r\n",
        "It takes in one optional argument:\r\n",
        "- env: The conda environment variable name. The default value is 'r-reticulate'."
      ]
    },
    {
      "cell_type": "code",
      "metadata": {
        "id": "Wu-iPpIsWxV9"
      },
      "source": [
        "?setup_anaconda()"
      ],
      "execution_count": null,
      "outputs": []
    },
    {
      "cell_type": "markdown",
      "metadata": {
        "id": "fyi8geP9Wzc8"
      },
      "source": [
        "Let's setup our Anaconda environment:"
      ]
    },
    {
      "cell_type": "code",
      "metadata": {
        "id": "0wE1AtRGW2bh"
      },
      "source": [
        "setup_anaconda()"
      ],
      "execution_count": null,
      "outputs": []
    },
    {
      "cell_type": "markdown",
      "metadata": {
        "id": "iJliPX6GW5bo"
      },
      "source": [
        "After running the code chunk, we should be all set with running spacyr and cleanNLP"
      ]
    },
    {
      "cell_type": "markdown",
      "metadata": {
        "id": "7lelaHN5ePyJ"
      },
      "source": [
        "## spacyr"
      ]
    },
    {
      "cell_type": "markdown",
      "metadata": {
        "id": "DTEap5wceSHA"
      },
      "source": [
        "Now that we have Anaconda setup, we can setup spacyr using `setup_spacyr()`. It takes in two arguments:\r\n",
        "- env: The condo environment name. The default is 'r-reticulate'.\r\n",
        "- lang_models: The language package for loading spaCy. The default is 'en_core_web_sm' or English."
      ]
    },
    {
      "cell_type": "code",
      "metadata": {
        "id": "u9-n7zSmeruS"
      },
      "source": [
        "# Documentation\r\n",
        "?setup_spacyr"
      ],
      "execution_count": null,
      "outputs": []
    },
    {
      "cell_type": "markdown",
      "metadata": {
        "id": "lCQXFecYe0jY"
      },
      "source": [
        "Before we can use the function though, we'll need to install the spacyr package:"
      ]
    },
    {
      "cell_type": "code",
      "metadata": {
        "id": "MqY5piDAe4dK"
      },
      "source": [
        "# Remeber to install package prior to using setup_spacyr\r\n",
        "install.packages('spacyr')"
      ],
      "execution_count": null,
      "outputs": []
    },
    {
      "cell_type": "code",
      "metadata": {
        "id": "Z5luxkc2ZXci"
      },
      "source": [
        "library(spacyr)"
      ],
      "execution_count": null,
      "outputs": []
    },
    {
      "cell_type": "markdown",
      "metadata": {
        "id": "S-27MM7SfIvv"
      },
      "source": [
        "Once that's done, we can use `setup_spacyr()`. It takes in twos argument; like before it is a string for the conda environment and by default it is `r-reticulate`. The other argument is what default language model to download and by the default it is English:\r\n"
      ]
    },
    {
      "cell_type": "code",
      "metadata": {
        "id": "B03NN8Omey8v"
      },
      "source": [
        "# Setup spacyr\r\n",
        "setup_spacyr()"
      ],
      "execution_count": null,
      "outputs": []
    },
    {
      "cell_type": "markdown",
      "metadata": {
        "id": "Yaw6I7FNXnLN"
      },
      "source": [
        "Once spacyr is setup, the package should work properly now! You may download addition language models using `spacy_download_langmodel()` but that is optional. Here's an example of that package working:"
      ]
    },
    {
      "cell_type": "code",
      "metadata": {
        "id": "WZINR1q6X5RY"
      },
      "source": [
        "txt <- c(d1 = \"spaCy is great at fast natural language processing.\",\n",
        "         d2 = \"Mr. Smith spent two years in North Carolina.\")\n",
        "\n",
        "# process documents and obtain a data.table\n",
        "parsedtxt <- spacy_parse(txt)\n",
        "parsedtxt"
      ],
      "execution_count": null,
      "outputs": []
    },
    {
      "cell_type": "markdown",
      "metadata": {
        "id": "62vqZRAyYA3W"
      },
      "source": [
        "## cleanNLP"
      ]
    },
    {
      "cell_type": "markdown",
      "metadata": {
        "id": "88IC9ObUYC2C"
      },
      "source": [
        "Like before, we'll need to setup Anaconda before we can use cleanNLP. Once that's done though, we can setup the package using `setup_cleanNLP()`. It takes in one argument:\r\n",
        "- env: The condo environment name. The default is r-reticulate."
      ]
    },
    {
      "cell_type": "code",
      "metadata": {
        "id": "cVFyXePJYQWV"
      },
      "source": [
        "# documentation\n",
        "?setup_cleanNLP"
      ],
      "execution_count": null,
      "outputs": []
    },
    {
      "cell_type": "markdown",
      "metadata": {
        "id": "kExpPskbYTGZ"
      },
      "source": [
        "It only takes in one argument: the conda environment. By default it it `r-reticulate`. Like before, we'll need to install cleanNLP first and load it in. This time, we'll need to have spacyr installed as well but we've already done that from before:"
      ]
    },
    {
      "cell_type": "code",
      "metadata": {
        "id": "_3diVSSiZP8U"
      },
      "source": [
        "install.packages('cleanNLP')"
      ],
      "execution_count": null,
      "outputs": []
    },
    {
      "cell_type": "code",
      "metadata": {
        "id": "EJBOnGVEZS8R"
      },
      "source": [
        "library(cleanNLP)"
      ],
      "execution_count": null,
      "outputs": []
    },
    {
      "cell_type": "markdown",
      "metadata": {
        "id": "0kpesBKbZG3T"
      },
      "source": [
        "Lets setup the package:"
      ]
    },
    {
      "cell_type": "code",
      "metadata": {
        "id": "rF-RF3xnYdCC"
      },
      "source": [
        "# Setup cleanNLP (make sure you have installed cleanNLP and spacyr prior to this)\n",
        "setup_cleanNLP()"
      ],
      "execution_count": null,
      "outputs": []
    },
    {
      "cell_type": "markdown",
      "metadata": {
        "id": "9GYzas6UYlpt"
      },
      "source": [
        "Once done, the Colab issues with the package should be fixed! We can set up everything up such as downloading the models and languages:"
      ]
    },
    {
      "cell_type": "code",
      "metadata": {
        "id": "JNEu7yTYYyvc"
      },
      "source": [
        "# Installs spacy and coreNLP backend models\n",
        "cnlp_download_spacy(\"en\")\n",
        "cnlp_download_corenlp(lang=\"en\") "
      ],
      "execution_count": null,
      "outputs": []
    },
    {
      "cell_type": "markdown",
      "metadata": {
        "id": "iO6dRQkaZwnC"
      },
      "source": [
        "And initializing desired backends and models:"
      ]
    },
    {
      "cell_type": "code",
      "metadata": {
        "id": "58rx-tBmZ09-"
      },
      "source": [
        "# Initialize models\n",
        "cnlp_init_stringi(locale=\"en_GB\")\n",
        "cnlp_init_udpipe(model_name=\"english\")\n",
        "\n",
        "# Spacy backend (will not need to run if initialized in spacyr)\n",
        "# cnlp_init_spacy(model_name=\"en\")\n",
        "\n",
        "# CoreNLP backend\n",
        "cnlp_init_corenlp(lang=\"en\")"
      ],
      "execution_count": null,
      "outputs": []
    },
    {
      "cell_type": "markdown",
      "metadata": {
        "id": "uq8HZTzrZ6rD"
      },
      "source": [
        "Here's an example in action:"
      ]
    },
    {
      "cell_type": "code",
      "metadata": {
        "id": "tw2junNGZ__x"
      },
      "source": [
        "cnlp_init_udpipe()\n",
        "\n",
        "annotation <- cnlp_annotate(input = c(\n",
        "        \"Here is the first text. It is short.\",\n",
        "        \"Here's the second. It is short too!\",\n",
        "        \"The third text is the shortest.\"\n",
        "))\n",
        "\n",
        "lapply(annotation, head)"
      ],
      "execution_count": null,
      "outputs": []
    },
    {
      "cell_type": "markdown",
      "metadata": {
        "id": "5u9iQ-OyaLCA"
      },
      "source": [
        "# text2vec LDA Plots"
      ]
    },
    {
      "cell_type": "markdown",
      "metadata": {
        "id": "5OBFZddjcoKN"
      },
      "source": [
        "Interactive LDA plots from text2vec do not work properly in Google Colab. `colabr` fixes that. Let's use the built in example from the package and create and fit a model first. First, let's install the package:"
      ]
    },
    {
      "cell_type": "code",
      "metadata": {
        "id": "3GCS9I_PaeJm"
      },
      "source": [
        "install.packages('text2vec')"
      ],
      "execution_count": null,
      "outputs": []
    },
    {
      "cell_type": "markdown",
      "metadata": {
        "id": "HzCECAPic7pd"
      },
      "source": [
        "And load the library:"
      ]
    },
    {
      "cell_type": "code",
      "metadata": {
        "id": "Umu6tzjjcaem"
      },
      "source": [
        "library(text2vec)"
      ],
      "execution_count": null,
      "outputs": []
    },
    {
      "cell_type": "markdown",
      "metadata": {
        "id": "IBftwcUadhnu"
      },
      "source": [
        "And the required dependencies:"
      ]
    },
    {
      "cell_type": "code",
      "metadata": {
        "id": "JTUVzR9cdkfc"
      },
      "source": [
        "install.packages('servr')\n",
        "install.packages('LDAvis')\n",
        "\n",
        "library(servr)\n",
        "library(LDAvis)"
      ],
      "execution_count": null,
      "outputs": []
    },
    {
      "cell_type": "markdown",
      "metadata": {
        "id": "q3yYzliec-ZV"
      },
      "source": [
        "Let's load in the movie review dataset:"
      ]
    },
    {
      "cell_type": "code",
      "metadata": {
        "id": "vnunVqILcnZv"
      },
      "source": [
        "data('movie_review')"
      ],
      "execution_count": null,
      "outputs": []
    },
    {
      "cell_type": "markdown",
      "metadata": {
        "id": "uXoem2u4dA5k"
      },
      "source": [
        "Perform some pre-processing and create and fit an LDA model:"
      ]
    },
    {
      "cell_type": "code",
      "metadata": {
        "id": "YzMH9x9pcezt"
      },
      "source": [
        "tokens = tolower(movie_review$review[1:4000])\n",
        "tokens = word_tokenizer(tokens)\n",
        "it = itoken(tokens, ids = movie_review$id[1:4000], progressbar = FALSE)\n",
        "v = create_vocabulary(it)\n",
        "v = prune_vocabulary(v, term_count_min = 10, doc_proportion_max = 0.2)\n",
        "  \n",
        "vectorizer = vocab_vectorizer(v)\n",
        "dtm = create_dtm(it, vectorizer, type = \"dgTMatrix\")\n",
        "\n",
        "lda_model = LDA$new(n_topics = 10, doc_topic_prior = 0.1, topic_word_prior = 0.01)\n",
        "\n",
        "doc_topic_distr = \n",
        "  lda_model$fit_transform(x = dtm, n_iter = 1000, \n",
        "                          convergence_tol = 0.001, n_check_convergence = 25, \n",
        "                          progressbar = FALSE)"
      ],
      "execution_count": null,
      "outputs": []
    },
    {
      "cell_type": "markdown",
      "metadata": {
        "id": "W7E8xKJ-dSnP"
      },
      "source": [
        "Now, we can plot the LDA model using `plot_lda_text2vec()`. It takes in three arguments:\r\n",
        "\r\n",
        "- lda_model: a *fitted* lda model from text2vec. This is a required argument.\r\n",
        "- embedded: a boolean on whether or not to display an embedded page. The default value is TRUE.\r\n",
        "- port: a port number. The default value is 4321.\r\n",
        "\r\n",
        "Afterwards, we simply view the embedded page or link that is generated.\r\n",
        "\r\n",
        "Only stop the code chunk once you are done running your plot!"
      ]
    },
    {
      "cell_type": "code",
      "metadata": {
        "id": "Yll7DqO0aJO7"
      },
      "source": [
        "plot_lda_text2vec(lda_model)"
      ],
      "execution_count": null,
      "outputs": []
    }
  ]
}